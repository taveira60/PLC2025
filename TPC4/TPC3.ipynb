{
 "cells": [
  {
   "cell_type": "markdown",
   "id": "1e1080a6",
   "metadata": {},
   "source": [
    "# TPC4 — Analisador Léxico\n",
    "\n",
    "**Data:** 2025-02-28  \n",
    "\n",
    "Construir um analisador léxico para uma linguagem de query com a qual se podem escrever frases do género:\n",
    "\n",
    "---\n",
    "\n",
    "### Exemplo de Query\n",
    "\n",
    "```sparql\n",
    "# DBPedia: obras de Chuck Berry\n",
    "\n",
    "select ?nome ?desc where { \n",
    "    ?s a dbo:MusicalArtist. \n",
    "    ?s foaf:name \"Chuck Berry\"@en . \n",
    "    ?w dbo:artist ?s. \n",
    "    ?w foaf:name ?nome. \n",
    "    ?w dbo:abstract ?desc \n",
    "} LIMIT 1000\n"
   ]
  },
  {
   "cell_type": "code",
   "execution_count": 2,
   "id": "4fa0f899",
   "metadata": {},
   "outputs": [
    {
     "data": {
      "text/plain": [
       "[('SELECT', 'SELECT', 1, (0, 6)),\n",
       " ('VAR', '?ola', 1, (7, 11)),\n",
       " ('VAR', '?jorge', 1, (12, 18)),\n",
       " ('VAR', '?tudo', 1, (19, 24)),\n",
       " ('WHERE', 'WHERE', 1, (26, 31)),\n",
       " ('NEWLINE', '\\n', 2, (32, 33)),\n",
       " ('PUNCT', '{', 2, (33, 34)),\n",
       " ('NEWLINE', '\\n', 3, (34, 35)),\n",
       " ('VAR', '?ola', 3, (37, 41)),\n",
       " ('ERROR', 'a', 3, (42, 43)),\n",
       " ('IDENT', ':Pessoa', 3, (44, 51)),\n",
       " ('PUNCT', ';', 3, (52, 53)),\n",
       " ('NEWLINE', '\\n', 4, (53, 54)),\n",
       " ('IDENT', ':temIdade', 4, (59, 68)),\n",
       " ('ERROR', '?', 4, (69, 70)),\n",
       " ('INT', '19', 4, (70, 72)),\n",
       " ('PUNCT', ';', 4, (73, 74)),\n",
       " ('NEWLINE', '\\n', 5, (74, 75)),\n",
       " ('IDENT', ':eIrmaoDe', 5, (80, 89)),\n",
       " ('VAR', '?jorge', 5, (90, 96)),\n",
       " ('PUNCT', '.', 5, (97, 98)),\n",
       " ('NEWLINE', '\\n', 6, (98, 99)),\n",
       " ('PUNCT', '}', 6, (99, 100)),\n",
       " ('NEWLINE', '\\n', 7, (100, 101))]"
      ]
     },
     "execution_count": 2,
     "metadata": {},
     "output_type": "execute_result"
    }
   ],
   "source": [
    "import re\n",
    "\n",
    "def tpc3(teste):\n",
    "    tokens=[\n",
    "    ('NEWLINE',r'\\n'),\n",
    "    ('SKIP',r'[ \\t]+'),\n",
    "    ('PREFIX',r'PREFIX\\b'),\n",
    "    ('SELECT',r'SELECT\\b'),\n",
    "    ('WHERE',r'WHERE\\b'),\n",
    "    ('OPTIOMAL',r'OPTIONAL\\b'),\n",
    "    ('FILTER',r'FILTER\\b'),\n",
    "    ('VAR',r'\\?[a-zA-Z_][\\w]*'),\n",
    "    ('URI',r'<[^>]*>'),\n",
    "    ('IDENT',r':[a-zA-Z_][\\w]*'),\n",
    "    ('INT',r'\\d+'),\n",
    "    ('STRING',r'\"[^\"]*\"'),\n",
    "    ('OP',r'[=!<>]+'),\n",
    "    ('PUNCT',r'[{}.;,]'),\n",
    "    ('ERROR',r'.')\n",
    "]\n",
    "    reconhecidos=[]\n",
    "    linha=1 \n",
    "    tokenreg='|'.join(f'(?P<{name}>{pattern})'for name , pattern in tokens) \n",
    "    val=re.finditer(tokenreg,teste)\n",
    "    for v in val:\n",
    "        dic=v.groupdict()\n",
    "        type=None\n",
    "        valor=v.group()\n",
    "        for key in dic:\n",
    "            if dic[key]:\n",
    "                tipo=key\n",
    "                break\n",
    "        if tipo=='NEWLINE':\n",
    "            linha+=1\n",
    "            reconhecidos.append((tipo, valor, linha, v.span()))\n",
    "        elif tipo != 'SKIP':\n",
    "            reconhecidos.append((tipo, valor, linha, v.span()))\n",
    "            \n",
    "    return reconhecidos\n",
    "    print (reconhecidos)\n",
    "    \n",
    "teste=\"\"\"SELECT ?ola ?jorge ?tudo  WHERE \n",
    "{\n",
    "  ?ola a :Pessoa ;\n",
    "     :temIdade ?19 ;\n",
    "     :eIrmaoDe ?jorge .\n",
    "}\n",
    "\"\"\"\n",
    "tpc3(teste)"
   ]
  }
 ],
 "metadata": {
  "kernelspec": {
   "display_name": "base",
   "language": "python",
   "name": "python3"
  },
  "language_info": {
   "codemirror_mode": {
    "name": "ipython",
    "version": 3
   },
   "file_extension": ".py",
   "mimetype": "text/x-python",
   "name": "python",
   "nbconvert_exporter": "python",
   "pygments_lexer": "ipython3",
   "version": "3.13.5"
  }
 },
 "nbformat": 4,
 "nbformat_minor": 5
}
